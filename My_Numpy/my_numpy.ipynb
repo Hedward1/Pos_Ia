{
 "cells": [
  {
   "cell_type": "code",
   "execution_count": 2,
   "metadata": {},
   "outputs": [],
   "source": [
    "import numpy as np"
   ]
  },
  {
   "attachments": {},
   "cell_type": "markdown",
   "metadata": {},
   "source": [
    "# 1. Criação de arrays"
   ]
  },
  {
   "attachments": {},
   "cell_type": "markdown",
   "metadata": {},
   "source": [
    "## Criando arrays unidimensionais"
   ]
  },
  {
   "cell_type": "code",
   "execution_count": 12,
   "metadata": {},
   "outputs": [],
   "source": [
    "a = np.array([1,2,3,4,5])\n",
    "a\n"
   ]
  },
  {
   "attachments": {},
   "cell_type": "markdown",
   "metadata": {},
   "source": [
    "## Criando arrays bidimensionais\n",
    "\n",
    "Você também pode criar um array vazio de um determinado tamanho usando a função numpy.empty(). Este método cria um array sem inicializar seus valores, o que pode ser mais rápido em algumas situações do que criar um array com valores iniciais:"
   ]
  },
  {
   "cell_type": "code",
   "execution_count": null,
   "metadata": {},
   "outputs": [],
   "source": [
    "b = np.array([[1,2,3], [4,5,6], [7,8,9]])\n",
    "b"
   ]
  },
  {
   "attachments": {},
   "cell_type": "markdown",
   "metadata": {},
   "source": [
    "## Criando arrays preenchidos com valores iguais\n",
    "\n",
    "Para criar um array com todos os seus valores iguais, você pode usar a função numpy.full(). Esta função cria um array com um determinado tamanho e preenche todos os seus valores com um valor específico:"
   ]
  },
  {
   "cell_type": "code",
   "execution_count": null,
   "metadata": {},
   "outputs": [],
   "source": [
    "c = np.empty((3, 3))\n",
    "c"
   ]
  },
  {
   "attachments": {},
   "cell_type": "markdown",
   "metadata": {},
   "source": [
    "## Criando arrays preenchidos com valores iguais\n",
    "Para criar um array com todos os seus valores iguais, você pode usar a função numpy.full(). Esta função cria um array com um determinado tamanho e preenche todos os seus valores com um valor específico:"
   ]
  },
  {
   "cell_type": "code",
   "execution_count": null,
   "metadata": {},
   "outputs": [],
   "source": [
    "d = np.full((3, 3), 7)\n",
    "d"
   ]
  },
  {
   "attachments": {},
   "cell_type": "markdown",
   "metadata": {},
   "source": [
    "## Criando arrays com valores sequenciais\n",
    "Para criar um array com valores sequenciais, você pode usar a função numpy.arange(). Esta função cria um array com valores que variam de um determinado valor inicial até um determinado valor final, com um determinado intervalo:"
   ]
  },
  {
   "cell_type": "code",
   "execution_count": 25,
   "metadata": {},
   "outputs": [
    {
     "data": {
      "text/plain": [
       "array([0, 2, 4, 6, 8])"
      ]
     },
     "execution_count": 25,
     "metadata": {},
     "output_type": "execute_result"
    }
   ],
   "source": [
    "e = np.arange(0, 10, 2)\n",
    "e"
   ]
  },
  {
   "attachments": {},
   "cell_type": "markdown",
   "metadata": {},
   "source": [
    "## Criando arrays com valores aleatórios\n",
    "Para criar um array com valores aleatórios, você pode usar a função numpy.random.rand(). Esta função cria um array com valores aleatórios entre 0 e 1:"
   ]
  },
  {
   "cell_type": "code",
   "execution_count": null,
   "metadata": {},
   "outputs": [],
   "source": [
    "f = np.random.rand(3, 3)\n",
    "f"
   ]
  },
  {
   "attachments": {},
   "cell_type": "markdown",
   "metadata": {},
   "source": [
    "# 2. Indexação e slicing de arrays"
   ]
  },
  {
   "attachments": {},
   "cell_type": "markdown",
   "metadata": {},
   "source": [
    "## Indexação de arrays unidimensionais\n",
    "Para acessar um elemento de um array unidimensional, você pode usar um índice:"
   ]
  },
  {
   "cell_type": "code",
   "execution_count": null,
   "metadata": {},
   "outputs": [],
   "source": [
    "a = np.array([1, 2, 3, 4, 5])\n",
    "print(a[2])  # saída: 3"
   ]
  },
  {
   "attachments": {},
   "cell_type": "markdown",
   "metadata": {},
   "source": [
    "## Indexação de arrays bidimensionais\n",
    "Para acessar um elemento de um array bidimensional, você pode usar um índice de linha e um índice de coluna:"
   ]
  },
  {
   "cell_type": "code",
   "execution_count": null,
   "metadata": {},
   "outputs": [],
   "source": [
    "b = np.array([[1, 2, 3], [4, 5, 6], [7, 8, 9]])\n",
    "print(b[1, 2])  # saída: 6"
   ]
  },
  {
   "attachments": {},
   "cell_type": "markdown",
   "metadata": {},
   "source": [
    "## Slicing de arrays unidimensionais\n",
    "Você pode acessar um subarray de um array unidimensional usando slicing. O slicing usa a sintaxe start:stop:step, onde start é o índice do primeiro elemento, stop é o índice do último elemento + 1 e step é o intervalo entre os elementos:"
   ]
  },
  {
   "cell_type": "code",
   "execution_count": null,
   "metadata": {},
   "outputs": [],
   "source": [
    "a = np.array([1, 2, 3, 4, 5])\n",
    "print(a[1:4])  # saída: [2 3 4]\n",
    "print(a[:3])  # saída: [1 2 3]\n",
    "print(a[2:])  # saída: [3 4 5]\n",
    "print(a[::2])  # saída: [1 3 5]"
   ]
  },
  {
   "attachments": {},
   "cell_type": "markdown",
   "metadata": {},
   "source": [
    "## Slicing de arrays bidimensionais\n",
    "Você pode acessar um subarray de um array bidimensional usando slicing. O slicing usa a sintaxe a[start_row:end_row:step_row, start_col:end_col:step_col], onde start_row é o índice da primeira linha, end_row é o índice da última linha + 1, step_row é o intervalo entre as linhas, start_col é o índice da primeira coluna, end_col é o índice da última coluna + 1 e step_col é o intervalo entre as colunas:"
   ]
  },
  {
   "cell_type": "code",
   "execution_count": null,
   "metadata": {},
   "outputs": [],
   "source": [
    "b = np.array([[1, 2, 3], [4, 5, 6], [7, 8, 9]])\n",
    "print(b[0:2, 1:3])  # saída: [[2 3] [5 6]]\n",
    "print(b[:2, 1:])  # saída: [[2 3] [5 6]]\n",
    "print(b[::2, ::2])  # saída: [[1 3] [7 9]]"
   ]
  },
  {
   "attachments": {},
   "cell_type": "markdown",
   "metadata": {},
   "source": [
    "# 3. Operações com arrays"
   ]
  },
  {
   "attachments": {},
   "cell_type": "markdown",
   "metadata": {},
   "source": [
    "## Operações aritméticas\n",
    "Você pode realizar operações aritméticas em arrays, como adição, subtração, multiplicação e divisão:"
   ]
  },
  {
   "cell_type": "code",
   "execution_count": null,
   "metadata": {},
   "outputs": [],
   "source": [
    "\n",
    "a = np.array([1, 2, 3, 4, 5])\n",
    "b = np.array([6, 7, 8, 9, 10])\n",
    "print(a + b)  # saída: [ 7  9 11 13 15]\n",
    "print(b - a)  # saída: [5 5 5 5 5]\n",
    "print(a * b)  # saída: [ 6 14 24 36 50]\n",
    "print(b / a)  # saída: [6.  3.5 2.66666667 2.25 2. ]"
   ]
  },
  {
   "attachments": {},
   "cell_type": "markdown",
   "metadata": {},
   "source": [
    "## Broadcasting\n",
    "O broadcasting é uma técnica que permite que operações aritméticas sejam realizadas em arrays com formas diferentes. Quando duas arrays são combinadas em uma operação aritmética, o NumPy compara as suas formas e tenta fazer a operação, adicionando dimensões extras temporárias onde necessário. Por exemplo, podemos adicionar um array de uma dimensão a uma array de duas dimensões da seguinte forma:"
   ]
  },
  {
   "cell_type": "code",
   "execution_count": null,
   "metadata": {},
   "outputs": [],
   "source": [
    "a = np.array([1, 2, 3])\n",
    "b = np.array([[4, 5, 6], [7, 8, 9]])\n",
    "print(a + b)  # saída: [[ 5  7  9] [ 8 10 12]]"
   ]
  },
  {
   "cell_type": "code",
   "execution_count": null,
   "metadata": {},
   "outputs": [],
   "source": [
    "a = np.array([[1, 2, 3], [4, 5, 6]])\n",
    "b = 2\n",
    "print(a * b)  # saída: [[ 2  4  6] [ 8 10 12]]"
   ]
  },
  {
   "attachments": {},
   "cell_type": "markdown",
   "metadata": {},
   "source": [
    "## Indexação booleana\n",
    "A indexação booleana é uma técnica que permite que você selecione elementos de um array com base em uma condição booleana. Para fazer isso, você pode criar um array booleano com a mesma forma que o array original, indicando quais elementos atendem à condição e quais não:"
   ]
  },
  {
   "cell_type": "code",
   "execution_count": null,
   "metadata": {},
   "outputs": [],
   "source": [
    "a = np.array([1, 2, 3, 4, 5])\n",
    "mask = a > 3\n",
    "print(mask)  # saída: [False False False  True  True]\n",
    "print(a[mask])  # saída: [4 5]"
   ]
  },
  {
   "attachments": {},
   "cell_type": "markdown",
   "metadata": {},
   "source": [
    "## Indexação com matrizes de índices\n",
    "Você pode indexar um array usando uma matriz de índices, que é uma array de números inteiros que indicam quais elementos do array original devem ser selecionados. A matriz de índices deve ter a mesma forma que o array que você está indexando:"
   ]
  },
  {
   "cell_type": "code",
   "execution_count": null,
   "metadata": {},
   "outputs": [],
   "source": [
    "a = np.array([[1, 2, 3], [4, 5, 6], [7, 8, 9]])\n",
    "indices = np.array([[0, 1], [1, 2]])\n",
    "print(a[indices])  # saída: [[2 3] [5 6]]"
   ]
  },
  {
   "attachments": {},
   "cell_type": "markdown",
   "metadata": {},
   "source": [
    "# 4. Funções matemáticas e estatísticas\n",
    "O NumPy também fornece muitas funções matemáticas e estatísticas úteis para trabalhar com arrays. Aqui estão algumas das principais funções:"
   ]
  },
  {
   "attachments": {},
   "cell_type": "markdown",
   "metadata": {},
   "source": [
    "## Média\n",
    "A função numpy.mean() calcula a média de um array ao longo de um determinado eixo:"
   ]
  },
  {
   "cell_type": "code",
   "execution_count": null,
   "metadata": {},
   "outputs": [],
   "source": [
    "import numpy as np\n",
    "\n",
    "a = np.array([[1, 2, 3], [4, 5, 6], [7, 8, 9]])\n",
    "print(np.mean(a))  # saída: 5.0\n",
    "print(np.mean(a, axis=0))  # saída: [4. 5. 6.]\n"
   ]
  },
  {
   "attachments": {},
   "cell_type": "markdown",
   "metadata": {},
   "source": [
    "#Desvio padrão\n",
    "A função numpy.std() calcula o desvio padrão de um array ao longo de um determinado eixo:"
   ]
  },
  {
   "cell_type": "code",
   "execution_count": null,
   "metadata": {},
   "outputs": [],
   "source": [
    "import numpy as np\n",
    "\n",
    "a = np.array([[1, 2, 3], [4, 5, 6], [7, 8, 9]])\n",
    "print(np.std(a))  # saída: 2.581988897471611\n",
    "print(np.std(a, axis=0))  # saída: [2.44948974 2.44948974 2.44948974]\n"
   ]
  },
  {
   "attachments": {},
   "cell_type": "markdown",
   "metadata": {},
   "source": [
    "## Mediana\n",
    "A função numpy.median() calcula a mediana de um array ao longo de um determinado eixo:"
   ]
  },
  {
   "cell_type": "code",
   "execution_count": null,
   "metadata": {},
   "outputs": [],
   "source": [
    "import numpy as np\n",
    "\n",
    "a = np.array([[1, 2, 3], [4, 5, 6], [7, 8, 9]])\n",
    "print(np.median(a))  # saída: 5.0"
   ]
  },
  {
   "attachments": {},
   "cell_type": "markdown",
   "metadata": {},
   "source": [
    "## Mínimo e máximo\n",
    "As funções numpy.min() e numpy.max() calculam o valor mínimo e máximo de um array ao longo de um determinado eixo:"
   ]
  },
  {
   "cell_type": "code",
   "execution_count": null,
   "metadata": {},
   "outputs": [],
   "source": [
    "import numpy as np\n",
    "\n",
    "a = np.array([[1, 2, 3], [4, 5, 6], [7, 8, 9]])\n",
    "print(np.min(a))  # saída: 1\n",
    "print(np.max(a))  # saída: 9\n",
    "print(np.min(a, axis=0))  # saída: [1 2 3]\n",
    "print(np.max(a, axis=1))  # saída: [3 6 9]\n"
   ]
  },
  {
   "attachments": {},
   "cell_type": "markdown",
   "metadata": {},
   "source": [
    "# Soma\n",
    "A função numpy.sum() calcula a soma dos elementos de um array ao longo de um determinado eixo:"
   ]
  },
  {
   "cell_type": "code",
   "execution_count": null,
   "metadata": {},
   "outputs": [],
   "source": [
    "import numpy as np\n",
    "\n",
    "a = np.array([[1, 2, 3], [4, 5, 6], [7, 8, 9]])\n",
    "print(np.sum(a))  # saída: 45\n",
    "print(np.sum(a, axis=0))  # saída: [12 15 18]\n",
    "print(np.sum(a, axis=1))  # saída: [ 6 15 24]\n"
   ]
  },
  {
   "attachments": {},
   "cell_type": "markdown",
   "metadata": {},
   "source": [
    "## Produto\n",
    "A função numpy.prod() calcula o produto dos elementos de um array ao longo de um determinado eixo:"
   ]
  },
  {
   "cell_type": "code",
   "execution_count": null,
   "metadata": {},
   "outputs": [],
   "source": [
    "a = np.array([[1, 2, 3], [4, 5, 6], [7, 8, 9]])\n",
    "print(np.prod(a))  # saída: 362880\n",
    "print(np.prod(a, axis=0))  # saída: [ 28  80 162]\n",
    "print(np.prod(a, axis=1))  # saída: [  6 120 504]"
   ]
  },
  {
   "attachments": {},
   "cell_type": "markdown",
   "metadata": {},
   "source": [
    "## Potência\n",
    "A função numpy.power() eleva um array a uma potência elementar ou a uma matriz de potências:"
   ]
  },
  {
   "cell_type": "code",
   "execution_count": null,
   "metadata": {},
   "outputs": [],
   "source": [
    "import numpy as np\n",
    "\n",
    "a = np.array([1, 2, 3])\n",
    "print(np.power(a, 2))  # saída: [1 4 9]\n",
    "\n",
    "b = np.array([[1, 2, 3], [4, 5, 6], [7, 8, 9]])\n",
    "print(np.power(b, 2))  # saída: [[ 1  4  9] [16 25 36] [49 64 81]]\n"
   ]
  },
  {
   "attachments": {},
   "cell_type": "markdown",
   "metadata": {},
   "source": [
    "# 5. Broadcasting avançado\n",
    "O broadcasting pode ser usado para realizar operações entre arrays com formas diferentes, mas também pode ser usado para adicionar novas dimensões a um array. Por exemplo, podemos adicionar uma nova dimensão a um array unidimensional da seguinte forma:"
   ]
  },
  {
   "cell_type": "code",
   "execution_count": null,
   "metadata": {},
   "outputs": [],
   "source": [
    "import numpy as np\n",
    "\n",
    "a = np.array([1, 2, 3])\n",
    "b = a[:, np.newaxis]\n",
    "print(b)  # saída: [[1] [2] [3]]"
   ]
  },
  {
   "attachments": {},
   "cell_type": "markdown",
   "metadata": {},
   "source": [
    "Podemos então usar o broadcasting para multiplicar duas matrizes com formas diferentes:"
   ]
  },
  {
   "cell_type": "code",
   "execution_count": null,
   "metadata": {},
   "outputs": [],
   "source": [
    "import numpy as np\n",
    "\n",
    "a = np.array([1, 2, 3])\n",
    "b = a[:, np.newaxis]\n",
    "c = np.array([4, 5, 6])\n",
    "print(b * c)  # saída: [[ 4  5  6] [ 8 10 12] [12 15 18]]"
   ]
  },
  {
   "attachments": {},
   "cell_type": "markdown",
   "metadata": {},
   "source": [
    "## 6. Funções universais\n",
    "As funções universais (ufuncs) são funções matemáticas que podem ser aplicadas a cada elemento de um array. Aqui estão algumas das ufuncs mais comuns:"
   ]
  },
  {
   "attachments": {},
   "cell_type": "markdown",
   "metadata": {},
   "source": [
    "## Trigonométricas\n",
    "As ufuncs trigonométricas, como numpy.sin(), numpy.cos() e numpy.tan(), calculam as funções trigonométricas de um array:"
   ]
  },
  {
   "cell_type": "code",
   "execution_count": null,
   "metadata": {},
   "outputs": [],
   "source": [
    "import numpy as np\n",
    "\n",
    "a = np.array([0, np.pi/2, np.pi])\n",
    "print(np.sin(a))  # saída: [0.0000000e+00 1.0000000e+00 1.2246468e-16]\n"
   ]
  },
  {
   "attachments": {},
   "cell_type": "markdown",
   "metadata": {},
   "source": [
    "## Exponenciais e logarítmicas\n",
    "As ufuncs exponenciais e logarítmicas, como numpy.exp(), numpy.log() e numpy.log10(), calculam as funções exponenciais e logarítmicas de um array:"
   ]
  },
  {
   "cell_type": "code",
   "execution_count": null,
   "metadata": {},
   "outputs": [],
   "source": [
    "import numpy as np\n",
    "\n",
    "a = np.array([1, 2, 3])\n",
    "print(np.exp(a))  # saída: [ 2.71828183  7.3890561  20.08553692]"
   ]
  },
  {
   "attachments": {},
   "cell_type": "markdown",
   "metadata": {},
   "source": [
    "## Operações bitwise\n",
    "As ufuncs bitwise, como numpy.bitwise_and(), numpy.bitwise_or() e numpy.bitwise_xor(), realizam operações bitwise em um array:"
   ]
  },
  {
   "cell_type": "code",
   "execution_count": null,
   "metadata": {},
   "outputs": [],
   "source": [
    "import numpy as np\n",
    "\n",
    "a = np.array([0, 1, 2, 3])\n",
    "b = np.array([2, 3, 4, 5])\n",
    "print(np.bitwise_and(a, b))  # saída: [0 1 0 1]"
   ]
  },
  {
   "attachments": {},
   "cell_type": "markdown",
   "metadata": {},
   "source": [
    "# 7. Manipulação de formas"
   ]
  },
  {
   "attachments": {},
   "cell_type": "markdown",
   "metadata": {},
   "source": [
    "## Reshape\n",
    "A função numpy.reshape() altera a forma de um array:"
   ]
  },
  {
   "cell_type": "code",
   "execution_count": null,
   "metadata": {},
   "outputs": [],
   "source": [
    "import numpy as np\n",
    "\n",
    "a = np.array([[1, 2, 3], [4, 5, 6], [7, 8, 9], [10, 11, 12]])\n",
    "b = np.reshape(a, (2, 6))\n",
    "print(b)  # saída: [[ 1  2  3  4  5  6] [ 7  8  9 10 11 12]]"
   ]
  },
  {
   "attachments": {},
   "cell_type": "markdown",
   "metadata": {},
   "source": [
    "## Concatenação\n",
    "A função numpy.concatenate() concatena dois ou mais arrays ao longo de um eixo específico:"
   ]
  },
  {
   "cell_type": "code",
   "execution_count": null,
   "metadata": {},
   "outputs": [],
   "source": [
    "import numpy as np\n",
    "\n",
    "a = np.array([[1, 2], [3, 4]])\n",
    "b = np.array([[5, 6]])\n",
    "print(np.concatenate((a, b), axis=0))  # saída: [[1 2] [3 4] [5 6]]\n",
    "\n",
    "c = np.array([[7], [8]])\n",
    "print(np.concatenate((a, c), axis=1))  # saída: [[1 2 7] [3 4 8]]\n"
   ]
  },
  {
   "attachments": {},
   "cell_type": "markdown",
   "metadata": {},
   "source": [
    "## Split\n",
    "A função numpy.split() divide um array em vários subarrays ao longo de um eixo específico:"
   ]
  },
  {
   "cell_type": "code",
   "execution_count": null,
   "metadata": {},
   "outputs": [],
   "source": [
    "import numpy as np\n",
    "\n",
    "a = np.array([1, 2, 3, 4, 5, 6])\n",
    "b, c = np.split(a, [2])\n",
    "print(b)  # saída: [1 2]\n",
    "print(c)  # saída: [3 4 5 6]"
   ]
  },
  {
   "attachments": {},
   "cell_type": "markdown",
   "metadata": {},
   "source": [
    "## Transposição\n",
    "A transposição de um array é uma operação que troca suas linhas e colunas. Isso pode ser feito com a propriedade T ou com a função numpy.transpose():"
   ]
  },
  {
   "cell_type": "code",
   "execution_count": null,
   "metadata": {},
   "outputs": [],
   "source": [
    "import numpy as np\n",
    "\n",
    "a = np.array([[1, 2, 3], [4, 5, 6]])\n",
    "print(a.T)  # saída: [[1 4] [2 5] [3 6]]\n",
    "print(np.transpose(a))  # saída: [[1 4] [2 5] [3 6]]"
   ]
  },
  {
   "attachments": {},
   "cell_type": "markdown",
   "metadata": {},
   "source": [
    "# 8. Criação de arrays"
   ]
  },
  {
   "attachments": {},
   "cell_type": "markdown",
   "metadata": {},
   "source": [
    "## linspace\n",
    "A função numpy.linspace() cria um array unidimensional com valores igualmente espaçados entre um valor inicial e um valor final:"
   ]
  },
  {
   "cell_type": "code",
   "execution_count": null,
   "metadata": {},
   "outputs": [],
   "source": [
    "import numpy as np\n",
    "\n",
    "a = np.linspace(0, 1, 5)\n",
    "print(a)  # saída: [0.   0.25 0.5  0.75 1.  ]"
   ]
  },
  {
   "attachments": {},
   "cell_type": "markdown",
   "metadata": {},
   "source": [
    "## zeros e ones\n",
    "As funções numpy.zeros() e numpy.ones() criam arrays de zeros e uns, respectivamente:"
   ]
  },
  {
   "cell_type": "code",
   "execution_count": null,
   "metadata": {},
   "outputs": [],
   "source": [
    "import numpy as np\n",
    "\n",
    "a = np.zeros((2, 3))\n",
    "print(a)  # saída: [[0. 0. 0.] [0. 0. 0.]]\n",
    "\n",
    "b = np.ones((2, 3))\n",
    "print(b)  # saída: [[1. 1. 1.] [1. 1. 1.]]\n"
   ]
  },
  {
   "attachments": {},
   "cell_type": "markdown",
   "metadata": {},
   "source": [
    "## eye\n",
    "A função numpy.eye() cria uma matriz identidade:"
   ]
  },
  {
   "cell_type": "code",
   "execution_count": null,
   "metadata": {},
   "outputs": [],
   "source": [
    "import numpy as np\n",
    "\n",
    "a = np.eye(3)\n",
    "print(a)  # saída: [[1. 0. 0.] [0. 1. 0.] [0. 0. 1.]]\n"
   ]
  },
  {
   "attachments": {},
   "cell_type": "markdown",
   "metadata": {},
   "source": [
    "## random\n",
    "O submódulo numpy.random fornece funções para criar arrays aleatórios:"
   ]
  },
  {
   "cell_type": "code",
   "execution_count": null,
   "metadata": {},
   "outputs": [],
   "source": [
    "import numpy as np\n",
    "\n",
    "a = np.random.rand(2, 3)\n",
    "print(a)  # saída: [[0.66383147 0.25542711 0.36807471] [0.71152468 0.29378438 0.46232248]]\n",
    "\n",
    "b = np.random.randint(1, 10, size=(2, 3))\n",
    "print(b)  # saída: [[5 2 5] [1 8 6]]\n"
   ]
  },
  {
   "attachments": {},
   "cell_type": "markdown",
   "metadata": {},
   "source": [
    "## empty\n",
    "A função numpy.empty() cria um array vazio com a forma especificada:"
   ]
  },
  {
   "cell_type": "code",
   "execution_count": null,
   "metadata": {},
   "outputs": [],
   "source": [
    "import numpy as np\n",
    "\n",
    "a = np.empty((2, 3))\n",
    "print(a)  # saída: [[4.67296746e-307 1.69121096e-306 1.69118108e-306] [1.29061821e-306 1.33511562e-306 2.22522597e-306]]"
   ]
  },
  {
   "attachments": {},
   "cell_type": "markdown",
   "metadata": {},
   "source": [
    "# 9. Leitura e gravação de arquivos"
   ]
  },
  {
   "attachments": {},
   "cell_type": "markdown",
   "metadata": {},
   "source": [
    "## loadtxt\n",
    "A função numpy.loadtxt() lê dados de um arquivo de texto e os coloca em um array:"
   ]
  },
  {
   "cell_type": "code",
   "execution_count": null,
   "metadata": {},
   "outputs": [],
   "source": [
    "import numpy as np\n",
    "\n",
    "data = np.loadtxt(\"dados.txt\")\n",
    "print(data)"
   ]
  },
  {
   "attachments": {},
   "cell_type": "markdown",
   "metadata": {},
   "source": [
    "## savetxt\n",
    "A função numpy.savetxt() grava um array em um arquivo de texto:"
   ]
  },
  {
   "cell_type": "code",
   "execution_count": null,
   "metadata": {},
   "outputs": [],
   "source": [
    "import numpy as np\n",
    "\n",
    "data = np.array([[1, 2, 3], [4, 5, 6]])\n",
    "np.savetxt(\"dados.txt\", data)"
   ]
  },
  {
   "attachments": {},
   "cell_type": "markdown",
   "metadata": {},
   "source": [
    "# 10. Indexação avançada\n",
    "A indexação avançada é uma técnica poderosa que permite selecionar elementos de um array com base em uma máscara booleana ou em uma lista de índices. Por exemplo:"
   ]
  },
  {
   "cell_type": "code",
   "execution_count": null,
   "metadata": {},
   "outputs": [],
   "source": [
    "import numpy as np\n",
    "\n",
    "a = np.array([1, 2, 3, 4, 5])\n",
    "b = np.array([True, False, True, False, True])\n",
    "print(a[b])  # saída: [1 3 5]\n",
    "\n",
    "c = np.array([0, 2, 4])\n",
    "print(a[c])  # saída: [1 3 5]\n"
   ]
  },
  {
   "attachments": {},
   "cell_type": "markdown",
   "metadata": {},
   "source": [
    "A indexação avançada também pode ser usada em arrays multidimensionais:"
   ]
  },
  {
   "cell_type": "code",
   "execution_count": null,
   "metadata": {},
   "outputs": [],
   "source": [
    "import numpy as np\n",
    "\n",
    "a = np.array([[1, 2], [3, 4], [5, 6]])\n",
    "b = np.array([True, False, True])\n",
    "print(a[b])  # saída: [[1 2] [5 6]]\n",
    "\n",
    "c = np.array([0, 2])\n",
    "print(a[:, c])  # saída: [[1 2] [3 4] [5 6]]\n"
   ]
  },
  {
   "attachments": {},
   "cell_type": "markdown",
   "metadata": {},
   "source": [
    "# 11. Álgebra linear\n",
    "A biblioteca NumPy inclui uma série de funções para realizar operações de álgebra linear, como multiplicação de matrizes, inversão de matrizes e decomposição de valores singulares. Aqui estão algumas funções comuns de álgebra linear:"
   ]
  },
  {
   "attachments": {},
   "cell_type": "markdown",
   "metadata": {},
   "source": [
    "## Multiplicação de matrizes\n",
    "A função numpy.matmul() realiza a multiplicação de duas matrizes:"
   ]
  },
  {
   "cell_type": "code",
   "execution_count": null,
   "metadata": {},
   "outputs": [],
   "source": [
    "import numpy as np\n",
    "\n",
    "a = np.array([[1, 2], [3, 4]])\n",
    "b = np.array([[5, 6], [7, 8]])\n",
    "print(np.matmul(a, b))  # saída: [[19 22] [43 50]]"
   ]
  },
  {
   "attachments": {},
   "cell_type": "markdown",
   "metadata": {},
   "source": [
    "## Inversão de matriz\n",
    "A função numpy.linalg.inv() calcula a inversa de uma matriz:"
   ]
  },
  {
   "cell_type": "code",
   "execution_count": null,
   "metadata": {},
   "outputs": [],
   "source": [
    "import numpy as np\n",
    "\n",
    "a = np.array([[1, 2], [3, 4]])\n",
    "b = np.linalg.inv(a)\n",
    "print(b)  # saída: [[-2.   1. ] [ 1.5 -0.5]]\n"
   ]
  },
  {
   "attachments": {},
   "cell_type": "markdown",
   "metadata": {},
   "source": [
    "## Decomposição de valores singulares\n",
    "A função numpy.linalg.svd() realiza a decomposição de valores singulares de uma matriz:"
   ]
  },
  {
   "cell_type": "code",
   "execution_count": null,
   "metadata": {},
   "outputs": [],
   "source": [
    "import numpy as np\n",
    "\n",
    "a = np.array([[1, 2], [3, 4], [5, 6]])\n",
    "u, s, vh = np.linalg.svd(a)\n",
    "print(u)  # saída: [[-0.2298477  -0.88346102  0.40824829] [-0.52474482 -0.24078249 -0.81649658] [-0.81964194  0.40189604  0.40824829]]\n",
    "print(s)  # saída: [9.52551809 0.51430058]\n",
    "print(vh)  # saída: [[-0.61962948 -0.78489445] [-0.78489445  0.61962948]]\n"
   ]
  },
  {
   "attachments": {},
   "cell_type": "markdown",
   "metadata": {},
   "source": [
    "# 12. Aplicações do NumPy\n",
    "O NumPy é uma biblioteca muito utilizada em diversas áreas, como processamento de imagens, aprendizado de máquina, simulações físicas, análise de dados e muito mais. Aqui estão algumas das áreas em que o NumPy é frequentemente utilizado:"
   ]
  },
  {
   "attachments": {},
   "cell_type": "markdown",
   "metadata": {},
   "source": [
    "## Processamento de imagens\n",
    "O NumPy é frequentemente utilizado para processamento de imagens em Python. Ele permite carregar imagens em arrays, manipulá-las e salvá-las em diversos formatos. Aqui está um exemplo de como carregar uma imagem em um array e exibi-la:"
   ]
  },
  {
   "cell_type": "code",
   "execution_count": null,
   "metadata": {},
   "outputs": [],
   "source": [
    "import numpy as np\n",
    "import matplotlib.pyplot as plt\n",
    "\n",
    "img = plt.imread(\"imagem.jpg\")\n",
    "print(img.shape)  # saída: (480, 640, 3)\n",
    "\n",
    "plt.imshow(img)\n",
    "plt.show()\n"
   ]
  },
  {
   "attachments": {},
   "cell_type": "markdown",
   "metadata": {},
   "source": [
    "## Aprendizado de máquina\n",
    "O NumPy é amplamente utilizado em bibliotecas de aprendizado de máquina em Python, como Scikit-learn e TensorFlow. Ele é usado para criar, manipular e processar dados em formato de matriz, que é o formato esperado pelos algoritmos de aprendizado de máquina."
   ]
  },
  {
   "attachments": {},
   "cell_type": "markdown",
   "metadata": {},
   "source": [
    "## Simulações físicas\n",
    "O NumPy é utilizado em simulações físicas para calcular equações matemáticas que descrevem o comportamento de sistemas físicos. Ele permite manipular matrizes grandes com eficiência, o que é importante em simulações que envolvem cálculos complexos."
   ]
  },
  {
   "attachments": {},
   "cell_type": "markdown",
   "metadata": {},
   "source": [
    "## Análise de dados\n",
    "O NumPy é frequentemente utilizado em análise de dados em Python. Ele permite manipular grandes conjuntos de dados em formato de matriz, o que é útil em tarefas como filtragem, agregação e transformação de dados. Além disso, ele é frequentemente utilizado em conjunto com outras bibliotecas de análise de dados em Python, como Pandas e Matplotlib."
   ]
  },
  {
   "attachments": {},
   "cell_type": "markdown",
   "metadata": {},
   "source": [
    "# 13. Dicas para trabalhar com NumPy\n",
    "Aqui estão algumas dicas para trabalhar com NumPy:\n",
    "\n",
    "- Utilize arrays do NumPy em vez de listas nativas do Python para armazenar dados numéricos, pois os arrays são mais eficientes em termos de memória e desempenho.\n",
    "\n",
    "- Use operações vetorizadas sempre que possível, em vez de laços explícitos. As operações vetorizadas do NumPy são implementadas em C e são, portanto, mais rápidas do que as operações implementadas em Python puro.\n",
    "\n",
    "- Acesse os elementos de um array com cuidado. O NumPy não verifica automaticamente os limites dos índices, o que significa que pode haver erros de acesso a memória se você tentar acessar elementos fora dos limites do array.\n",
    "\n",
    "- Aprenda a usar a documentação do NumPy, que é abrangente e bem escrita. A documentação pode ajudá-lo a entender como usar as funções do NumPy e quais argumentos elas aceitam."
   ]
  },
  {
   "attachments": {},
   "cell_type": "markdown",
   "metadata": {},
   "source": [
    "# 14. Recursos adicionais\n",
    "Aqui estão alguns recursos adicionais para aprender mais sobre o NumPy:\n",
    "\n",
    "- Documentação oficial do NumPy: A documentação oficial do NumPy é a fonte mais abrangente de informações sobre a biblioteca. Ela inclui uma referência de funções, tutoriais e exemplos de código.\n",
    "\n",
    "- SciPy Lectures: Este é um conjunto de palestras em vídeo e slides sobre programação científica em Python, que inclui uma seção sobre NumPy.\n",
    "\n",
    "- Python Data Science Handbook: Este é um livro online gratuito sobre ciência de dados em Python, que inclui uma seção sobre NumPy.\n",
    "\n",
    "- Tutorial do NumPy na DataCamp: Este é um tutorial interativo do NumPy na plataforma de aprendizado de máquina DataCamp. Ele inclui exercícios e testes para verificar seu conhecimento.\n",
    "\n",
    "\n"
   ]
  },
  {
   "attachments": {},
   "cell_type": "markdown",
   "metadata": {},
   "source": [
    "# 15. Desempenho do NumPy\n",
    "Uma das principais vantagens do NumPy é o seu desempenho. O NumPy é implementado em C e fornece operações vetorizadas de alto desempenho que são muito mais rápidas do que as operações equivalentes implementadas em Python puro. Além disso, o NumPy usa técnicas de alocação de memória eficientes que reduzem a sobrecarga de memória em comparação com as listas nativas do Python."
   ]
  },
  {
   "attachments": {},
   "cell_type": "markdown",
   "metadata": {},
   "source": [
    "# 16. NumPy vs. Listas do Python\n",
    "Embora os arrays do NumPy sejam semelhantes às listas nativas do Python em alguns aspectos, eles apresentam algumas diferenças importantes. Aqui estão algumas das diferenças entre os arrays do NumPy e as listas do Python:\n",
    "\n",
    "- Os arrays do NumPy são mais eficientes em termos de memória do que as listas do Python, pois eles armazenam todos os elementos do mesmo tipo de dados em um bloco de memória contíguo. As listas do Python, por outro lado, permitem armazenar elementos de tipos de dados diferentes e não garantem que os elementos sejam armazenados em uma região de memória contígua.\n",
    "- Os arrays do NumPy fornecem operações vetorizadas de alto desempenho, que permitem realizar cálculos em grandes conjuntos de dados de forma eficiente. As listas do Python não fornecem esse recurso, o que significa que as operações em listas podem ser muito mais lentas em comparação com as operações em arrays do NumPy.\n",
    "- Os arrays do NumPy são imutáveis, o que significa que não podem ser alterados depois de criados. As listas do Python, por outro lado, são mutáveis e permitem adicionar, remover e alterar elementos."
   ]
  },
  {
   "attachments": {},
   "cell_type": "markdown",
   "metadata": {},
   "source": [
    "# 17. Considerações finais\n",
    "O NumPy é uma biblioteca poderosa para computação científica e análise de dados em Python. Ele fornece uma ampla variedade de funções e recursos para manipular e processar dados em formato de matriz, o que o torna uma ferramenta indispensável para muitas áreas de pesquisa e desenvolvimento. Esperamos que este resumo das noções básicas do NumPy tenha sido útil para você começar a usar esta biblioteca em seus próprios projetos!"
   ]
  },
  {
   "attachments": {},
   "cell_type": "markdown",
   "metadata": {},
   "source": [
    "# 18. Comunidade NumPy\n",
    "O NumPy é uma biblioteca de código aberto e tem uma grande comunidade de usuários e desenvolvedores que contribuem com código, documentação, suporte e outros recursos. A comunidade NumPy é composta por pessoas de diversas origens e áreas de atuação, incluindo cientistas, engenheiros, programadores e estudantes. Você pode participar da comunidade NumPy contribuindo com código, ajudando a responder perguntas nos fóruns de discussão ou compartilhando seus projetos e ideias.\n",
    "\n"
   ]
  },
  {
   "attachments": {},
   "cell_type": "markdown",
   "metadata": {},
   "source": [
    "# 19. Exemplos de aplicação do NumPy\n",
    "O NumPy é uma biblioteca versátil que pode ser usada em diversas áreas, como processamento de sinais, áudio, imagem e vídeo, simulação de sistemas físicos, análise de dados e aprendizado de máquina. Aqui estão alguns exemplos de como o NumPy pode ser usado em aplicações do mundo real:\n",
    "\n",
    "- Processamento de imagem: o NumPy pode ser usado para carregar, manipular e processar imagens em Python. Ele fornece uma ampla variedade de funções para realizar tarefas como filtragem, suavização, detecção de bordas e segmentação de imagens.\n",
    "\n",
    "- Análise de dados: o NumPy é frequentemente utilizado em análise de dados em Python. Ele permite manipular grandes conjuntos de dados em formato de matriz e realizar tarefas como filtragem, agregação e transformação de dados.\n",
    "\n",
    "-  Simulação física: o NumPy é frequentemente utilizado em simulações físicas para calcular equações matemáticas que descrevem o comportamento de sistemas físicos. Ele permite manipular matrizes grandes com eficiência, o que é importante em simulações que envolvem cálculos complexos.\n",
    "\n",
    "- Aprendizado de máquina: o NumPy é amplamente utilizado em bibliotecas de aprendizado de máquina em Python, como Scikit-learn e TensorFlow. Ele é usado para criar, manipular e processar dados em formato de matriz, que é o formato esperado pelos algoritmos de aprendizado de máquina."
   ]
  },
  {
   "attachments": {},
   "cell_type": "markdown",
   "metadata": {},
   "source": [
    "# 20. Alternativas ao NumPy\n",
    "Embora o NumPy seja a biblioteca de computação científica mais popular em Python, existem outras bibliotecas que oferecem recursos semelhantes. Aqui estão algumas alternativas ao NumPy:\n",
    "\n",
    "- CuPy: uma biblioteca que permite executar cálculos em GPUs NVIDIA usando uma interface semelhante à do NumPy.\n",
    "- PyTorch: uma biblioteca de aprendizado de máquina que inclui uma implementação eficiente de tensores, que é semelhante aos arrays do NumPy.\n",
    "\n",
    "- TensorFlow: uma biblioteca de aprendizado de máquina que inclui uma implementação eficiente de tensores, que é semelhante aos arrays do NumPy.\n",
    "\n",
    "- Pandas: uma biblioteca que fornece estruturas de dados de alto desempenho para análise de dados em Python, incluindo as séries e os dataframes.\n",
    "\n",
    "Cada uma dessas bibliotecas tem seus próprios recursos e vantagens, e a escolha da melhor biblioteca depende dos requisitos específicos do seu projeto."
   ]
  },
  {
   "attachments": {},
   "cell_type": "markdown",
   "metadata": {},
   "source": [
    "# 21. Dicas para solução de problemas comuns\n",
    "Aqui estão algumas dicas para solucionar problemas comuns que você pode encontrar ao usar o NumPy:\n",
    "\n",
    "- Certifique-se de que os arrays que você está trabalhando tenham as dimensões corretas para as operações que está tentando realizar. Por exemplo, se você estiver tentando adicionar dois arrays, certifique-se de que eles tenham as mesmas dimensões.\n",
    "\n",
    "- Verifique se você está passando os tipos de dados corretos para as funções do NumPy. Por exemplo, se uma função espera um array de números inteiros, certifique-se de que você está passando um array com números inteiros.\n",
    "\n",
    "- Lembre-se de que as funções do NumPy não modificam os arrays de entrada. Em vez disso, elas retornam um novo array como resultado. Se você quiser modificar o array de entrada, você precisará atribuir o resultado da função de volta ao array de entrada.\n",
    "\n",
    "- Se você estiver tendo problemas de desempenho, verifique se está usando operações vetorizadas sempre que possível. As operações vetorizadas são muito mais rápidas do que as operações implementadas em Python puro.\n",
    "\n",
    "- Use a documentação do NumPy e a comunidade de usuários para solucionar problemas e tirar dúvidas. A documentação do NumPy é abrangente e bem escrita, e existem muitos fóruns e listas de discussão onde você pode obter ajuda.\n"
   ]
  },
  {
   "attachments": {},
   "cell_type": "markdown",
   "metadata": {},
   "source": [
    "# 22. Boas práticas de programação com NumPy\n",
    "Aqui estão algumas boas práticas de programação com NumPy:\n",
    "\n",
    "- Use nomes descritivos para suas variáveis e funções. Isso torna seu código mais legível e facilita a manutenção.\n",
    "\n",
    "- Comente seu código para explicar o que ele faz e por que ele faz isso. Isso ajuda outras pessoas a entender seu código e pode ajudá-lo a lembrar o que fez quando voltar ao seu código depois de um tempo.\n",
    "- Separe seu código em funções lógicas que realizam tarefas específicas. Isso torna seu código mais modular e mais fácil de entender e modificar.\n",
    "\n",
    "- Teste seu código com dados de entrada de borda e verifique se ele se comporta de maneira correta. Isso ajuda a evitar bugs e problemas de desempenho.\n",
    "\n",
    "- Use o controle de versão para gerenciar seu código. O controle de versão permite que você mantenha um histórico das alterações em seu código e reverta para versões anteriores, se necessário."
   ]
  },
  {
   "attachments": {},
   "cell_type": "markdown",
   "metadata": {},
   "source": [
    "# 23. Conclusão\n",
    "O NumPy é uma biblioteca poderosa para computação científica e análise de dados em Python. Ele fornece uma ampla variedade de funções e recursos para manipular e processar dados em formato de matriz, o que o torna uma ferramenta indispensável para muitas áreas de pesquisa e desenvolvimento. Esperamos que este resumo das noções básicas do NumPy tenha sido útil para você começar a usar esta biblioteca em seus próprios projetos!"
   ]
  },
  {
   "attachments": {},
   "cell_type": "markdown",
   "metadata": {},
   "source": [
    "# 24. Recursos adicionais\n",
    "Aqui estão mais alguns recursos adicionais que podem ajudá-lo a aprender mais sobre o NumPy:\n",
    "\n",
    "- Livro \"Python for Data Science Handbook\": Este livro é uma referência útil para o uso do NumPy em análise de dados e ciência de dados em Python. Ele fornece uma introdução clara ao NumPy e inclui muitos exemplos práticos.\n",
    "\n",
    "- Documentação do SciPy: O SciPy é uma biblioteca complementar ao NumPy, que fornece uma variedade de ferramentas para computação científica. A documentação do SciPy inclui uma seção sobre o NumPy e é uma referência valiosa para funções e recursos adicionais.\n",
    "\n",
    "- Blog NumPy: O blog oficial do NumPy é uma ótima fonte de informações sobre as últimas atualizações e desenvolvimentos no NumPy. Ele inclui posts sobre como usar o NumPy em diversas aplicações, bem como atualizações sobre a comunidade e desenvolvimento.\n",
    "- Fórum de discussão do NumPy: O fórum de discussão do NumPy é um ótimo lugar para fazer perguntas, obter ajuda e interagir com a comunidade de usuários do NumPy. É um recurso valioso para solução de problemas e desenvolvimento de projetos.\n",
    "- GitHub do NumPy: O GitHub do NumPy é o repositório oficial de código-fonte do NumPy. É uma ótima fonte de informação sobre as últimas atualizações, problemas conhecidos e desenvolvimento futuro."
   ]
  },
  {
   "attachments": {},
   "cell_type": "markdown",
   "metadata": {},
   "source": [
    "# 25. Usando NumPy em projetos de ciência de dados\n",
    "O NumPy é uma ferramenta fundamental para a análise de dados em Python. Ele permite manipular grandes conjuntos de dados em formato de matriz e realizar tarefas como filtragem, agregação e transformação de dados. Aqui estão algumas dicas para usar o NumPy em projetos de ciência de dados:\n",
    "\n",
    "- Use o NumPy para carregar e manipular dados. O NumPy fornece funções para carregar dados de diversos formatos, como CSV, Excel e SQL. Ele também fornece funções para manipular e transformar dados, como filtros, agregações e ordenação.\n",
    "\n",
    "- Use operações vetorizadas do NumPy sempre que possível. As operações vetorizadas do NumPy são implementadas em C e são, portanto, muito mais rápidas do que as operações equivalentes implementadas em Python puro.\n",
    "\n",
    "- Use o NumPy em conjunto com outras bibliotecas de ciência de dados em Python, como Pandas, Matplotlib e Scikit-learn. Essas bibliotecas fornecem recursos adicionais para análise de dados, visualização e aprendizado de máquina.\n",
    "\n",
    "- Lembre-se de documentar seu código e explicar o que ele faz e por que ele faz isso. Isso ajuda outras pessoas a entender seu código e pode ajudá-lo a lembrar o que fez quando voltar ao seu código depois de um tempo."
   ]
  },
  {
   "cell_type": "markdown",
   "metadata": {},
   "source": []
  }
 ],
 "metadata": {
  "kernelspec": {
   "display_name": "venv",
   "language": "python",
   "name": "python3"
  },
  "language_info": {
   "codemirror_mode": {
    "name": "ipython",
    "version": 3
   },
   "file_extension": ".py",
   "mimetype": "text/x-python",
   "name": "python",
   "nbconvert_exporter": "python",
   "pygments_lexer": "ipython3",
   "version": "3.10.6"
  },
  "orig_nbformat": 4,
  "vscode": {
   "interpreter": {
    "hash": "cfd31ab3dda379bb3af4af8de4bb138ef31f0ddc46b6c3a280141cd0d9e6249b"
   }
  }
 },
 "nbformat": 4,
 "nbformat_minor": 2
}
