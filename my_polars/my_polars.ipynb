{
 "cells": [
  {
   "attachments": {},
   "cell_type": "markdown",
   "metadata": {},
   "source": [
    "# Manual do Polars"
   ]
  },
  {
   "attachments": {},
   "cell_type": "markdown",
   "metadata": {},
   "source": [
    "## Introdução ao Polars"
   ]
  },
  {
   "attachments": {},
   "cell_type": "markdown",
   "metadata": {},
   "source": [
    "- O que é o Polars e por que é útil"
   ]
  },
  {
   "attachments": {},
   "cell_type": "markdown",
   "metadata": {},
   "source": [
    "Polars é uma biblioteca de processamento de dados de alto desempenho e escalabilidade para a linguagem Rust. Ele oferece uma alternativa de código aberto e livre de licença a outras bibliotecas populares, como o Pandas e Dask, para processar grandes quantidades de dados de maneira rápida e eficiente.\n",
    "\n",
    "Polars é especialmente útil quando se lida com dados grandes o suficiente para exigir o uso de computação distribuída. Ele usa a linguagem funcional Rust para fornecer um desempenho aprimorado em comparação com outras bibliotecas de processamento de dados e oferece recursos avançados de particionamento, indexação e compressão de dados para melhorar a escalabilidade."
   ]
  },
  {
   "attachments": {},
   "cell_type": "markdown",
   "metadata": {},
   "source": [
    "- Recursos do Polars e vantagens em relação a outras bibliotecas de processamento de dados\n"
   ]
  },
  {
   "attachments": {},
   "cell_type": "markdown",
   "metadata": {},
   "source": [
    "O Polars tem vários recursos que o tornam uma escolha atraente para processamento de dados, incluindo:\n",
    "\n",
    "* Alto desempenho e escalabilidade com a linguagem funcional Rust.\n",
    "* Suporte para tipos de dados complexos, como arrays e structs.\n",
    "* Operações de agregação e transformação de dados para realizar tarefas de análise de dados comuns.\n",
    "* Uso de expressões de linguagem funcional para criar pipelines de processamento de dados.\n",
    "* Integração com outras ferramentas de visualização de dados para gerar gráficos e relatórios.\n",
    "* Compatibilidade com vários formatos de arquivo de dados, como CSV, JSON e Parquet."
   ]
  },
  {
   "attachments": {},
   "cell_type": "markdown",
   "metadata": {},
   "source": [
    "- Visão geral dos recursos do Polars a serem cobertos neste manual"
   ]
  },
  {
   "attachments": {},
   "cell_type": "markdown",
   "metadata": {},
   "source": [
    "Em resumo, o Polars é uma biblioteca de processamento de dados de alto desempenho e escalabilidade que oferece recursos avançados para análise e transformação de dados. Ele é uma alternativa de código aberto e livre de licença a outras bibliotecas populares de processamento de dados e é especialmente útil para lidar com grandes conjuntos de dados que exigem computação distribuída."
   ]
  },
  {
   "attachments": {},
   "cell_type": "markdown",
   "metadata": {},
   "source": [
    "## Instalação e Configuração do Polars\n"
   ]
  },
  {
   "attachments": {},
   "cell_type": "markdown",
   "metadata": {},
   "source": [
    "- Opções de instalação para o Polars"
   ]
  },
  {
   "cell_type": "code",
   "execution_count": 5,
   "metadata": {},
   "outputs": [],
   "source": [
    "# # executar no terminal\n",
    "# conda install -c conda-forge polars\n",
    "# pip install polars"
   ]
  },
  {
   "attachments": {},
   "cell_type": "markdown",
   "metadata": {},
   "source": [
    "- Configuração do ambiente de desenvolvimento para uso do Polars"
   ]
  },
  {
   "cell_type": "code",
   "execution_count": null,
   "metadata": {},
   "outputs": [],
   "source": [
    "import polars as pl"
   ]
  },
  {
   "attachments": {},
   "cell_type": "markdown",
   "metadata": {},
   "source": [
    "- Verificação da instalação e teste de funcionalidade básica do Polars\n"
   ]
  },
  {
   "cell_type": "code",
   "execution_count": 6,
   "metadata": {},
   "outputs": [
    {
     "name": "stdout",
     "output_type": "stream",
     "text": [
      "shape: (3, 2)\n",
      "┌──────┬──────┐\n",
      "│ col1 ┆ col2 │\n",
      "│ ---  ┆ ---  │\n",
      "│ i64  ┆ str  │\n",
      "╞══════╪══════╡\n",
      "│ 1    ┆ a    │\n",
      "│ 2    ┆ b    │\n",
      "│ 3    ┆ c    │\n",
      "└──────┴──────┘\n"
     ]
    }
   ],
   "source": [
    "import polars as pl\n",
    "\n",
    "# Criar um dataframe\n",
    "df = pl.DataFrame({\n",
    "    'col1': [1, 2, 3],\n",
    "    'col2': ['a', 'b', 'c']\n",
    "})\n",
    "\n",
    "# Imprimir o dataframe na tela\n",
    "print(df)\n"
   ]
  },
  {
   "attachments": {},
   "cell_type": "markdown",
   "metadata": {},
   "source": [
    "## Manipulação de dados com o Polars"
   ]
  },
  {
   "attachments": {},
   "cell_type": "markdown",
   "metadata": {},
   "source": [
    "- Criação de dataframes e manipulação de dados\n"
   ]
  },
  {
   "cell_type": "code",
   "execution_count": 11,
   "metadata": {},
   "outputs": [
    {
     "ename": "ValueError",
     "evalue": "Cannot __getitem__ on DataFrame with item: '[(col(\"col1\")) > (1)]' of type: '<class 'polars.internals.expr.expr.Expr'>'.",
     "output_type": "error",
     "traceback": [
      "\u001b[0;31m---------------------------------------------------------------------------\u001b[0m",
      "\u001b[0;31mValueError\u001b[0m                                Traceback (most recent call last)",
      "Cell \u001b[0;32mIn[11], line 13\u001b[0m\n\u001b[1;32m     10\u001b[0m col1 \u001b[39m=\u001b[39m df[\u001b[39m'\u001b[39m\u001b[39mcol1\u001b[39m\u001b[39m'\u001b[39m]\n\u001b[1;32m     12\u001b[0m \u001b[39m# Filtrar linhas\u001b[39;00m\n\u001b[0;32m---> 13\u001b[0m filtered_df \u001b[39m=\u001b[39m df[pl\u001b[39m.\u001b[39;49mcol(\u001b[39m'\u001b[39;49m\u001b[39mcol1\u001b[39;49m\u001b[39m'\u001b[39;49m) \u001b[39m>\u001b[39;49m \u001b[39m1\u001b[39;49m]\n\u001b[1;32m     15\u001b[0m \u001b[39m# Adicionar colunas\u001b[39;00m\n\u001b[1;32m     16\u001b[0m df[\u001b[39m'\u001b[39m\u001b[39mcol3\u001b[39m\u001b[39m'\u001b[39m] \u001b[39m=\u001b[39m [\u001b[39m4\u001b[39m, \u001b[39m5\u001b[39m, \u001b[39m6\u001b[39m]\n",
      "File \u001b[0;32m~/Documents/Pos_Ia/venv/lib/python3.10/site-packages/polars/internals/dataframe/frame.py:1657\u001b[0m, in \u001b[0;36mDataFrame.__getitem__\u001b[0;34m(self, item)\u001b[0m\n\u001b[1;32m   1652\u001b[0m         \u001b[39mreturn\u001b[39;00m \u001b[39mself\u001b[39m\u001b[39m.\u001b[39m_from_pydf(\n\u001b[1;32m   1653\u001b[0m             \u001b[39mself\u001b[39m\u001b[39m.\u001b[39m_df\u001b[39m.\u001b[39mtake_with_series(\u001b[39mself\u001b[39m\u001b[39m.\u001b[39m_pos_idxs(item, dim\u001b[39m=\u001b[39m\u001b[39m0\u001b[39m)\u001b[39m.\u001b[39m_s)\n\u001b[1;32m   1654\u001b[0m         )\n\u001b[1;32m   1656\u001b[0m \u001b[39m# if no data has been returned, the operation is not supported\u001b[39;00m\n\u001b[0;32m-> 1657\u001b[0m \u001b[39mraise\u001b[39;00m \u001b[39mValueError\u001b[39;00m(\n\u001b[1;32m   1658\u001b[0m     \u001b[39mf\u001b[39m\u001b[39m\"\u001b[39m\u001b[39mCannot __getitem__ on DataFrame with item: \u001b[39m\u001b[39m'\u001b[39m\u001b[39m{\u001b[39;00mitem\u001b[39m}\u001b[39;00m\u001b[39m'\u001b[39m\u001b[39m\"\u001b[39m\n\u001b[1;32m   1659\u001b[0m     \u001b[39mf\u001b[39m\u001b[39m\"\u001b[39m\u001b[39m of type: \u001b[39m\u001b[39m'\u001b[39m\u001b[39m{\u001b[39;00m\u001b[39mtype\u001b[39m(item)\u001b[39m}\u001b[39;00m\u001b[39m'\u001b[39m\u001b[39m.\u001b[39m\u001b[39m\"\u001b[39m\n\u001b[1;32m   1660\u001b[0m )\n",
      "\u001b[0;31mValueError\u001b[0m: Cannot __getitem__ on DataFrame with item: '[(col(\"col1\")) > (1)]' of type: '<class 'polars.internals.expr.expr.Expr'>'."
     ]
    }
   ],
   "source": [
    "import polars as pl\n",
    "\n",
    "# Criar um dataframe\n",
    "df = pl.DataFrame({\n",
    "    'col1': [1, 2, 3],\n",
    "    'col2': ['a', 'b', 'c']\n",
    "})\n",
    "\n",
    "# Selecionar uma coluna\n",
    "col1 = df['col1']\n",
    "\n",
    "# Filtrar linhas\n",
    "filtered_df = df[pl.col('col1').]\n",
    "\n",
    "# Adicionar colunas\n",
    "df['col3'] = [4, 5, 6]\n",
    "\n",
    "# Aplicar uma função a uma coluna\n",
    "df['col4'] = df['col3'].apply(lambda x: x ** 2)\n",
    "\n"
   ]
  },
  {
   "attachments": {},
   "cell_type": "markdown",
   "metadata": {},
   "source": [
    "- Seleção e filtragem de dados"
   ]
  },
  {
   "attachments": {},
   "cell_type": "markdown",
   "metadata": {},
   "source": [
    "- Operações de agregação e transformação"
   ]
  },
  {
   "attachments": {},
   "cell_type": "markdown",
   "metadata": {},
   "source": [
    "- Join de dataframes"
   ]
  },
  {
   "attachments": {},
   "cell_type": "markdown",
   "metadata": {},
   "source": [
    "- Ordenação de dados"
   ]
  },
  {
   "attachments": {},
   "cell_type": "markdown",
   "metadata": {},
   "source": [
    "## Tipos de dados suportados pelo Polars"
   ]
  },
  {
   "attachments": {},
   "cell_type": "markdown",
   "metadata": {},
   "source": [
    "- Tipos numéricos (inteiros e floats)"
   ]
  },
  {
   "attachments": {},
   "cell_type": "markdown",
   "metadata": {},
   "source": [
    "- Texto e dados categóricos"
   ]
  },
  {
   "attachments": {},
   "cell_type": "markdown",
   "metadata": {},
   "source": [
    "- Datas e horários"
   ]
  },
  {
   "attachments": {},
   "cell_type": "markdown",
   "metadata": {},
   "source": [
    "- Valores nulos (nulls)"
   ]
  },
  {
   "attachments": {},
   "cell_type": "markdown",
   "metadata": {},
   "source": [
    "- Tipos complexos (arrays e structs)"
   ]
  },
  {
   "attachments": {},
   "cell_type": "markdown",
   "metadata": {},
   "source": [
    "## Desempenho e escalabilidade do Polars"
   ]
  },
  {
   "attachments": {},
   "cell_type": "markdown",
   "metadata": {},
   "source": [
    "- Uso da biblioteca Rust para desempenho aprimorado"
   ]
  },
  {
   "attachments": {},
   "cell_type": "markdown",
   "metadata": {},
   "source": [
    "- Suporte para processamento em múltiplos núcleos"
   ]
  },
  {
   "attachments": {},
   "cell_type": "markdown",
   "metadata": {},
   "source": [
    "- Opções de particionamento e indexação"
   ]
  },
  {
   "attachments": {},
   "cell_type": "markdown",
   "metadata": {},
   "source": [
    "- Opções de compressão de dados para reduzir o uso de espaço em disco\n"
   ]
  },
  {
   "attachments": {},
   "cell_type": "markdown",
   "metadata": {},
   "source": [
    "## Expressões de linguagem funcional no Polars"
   ]
  },
  {
   "attachments": {},
   "cell_type": "markdown",
   "metadata": {},
   "source": [
    "- Compreensão de expressões funcionais e como elas funcionam no Polars\n"
   ]
  },
  {
   "attachments": {},
   "cell_type": "markdown",
   "metadata": {},
   "source": [
    "- Uso de expressões em pipelines de processamento de dados\n"
   ]
  },
  {
   "attachments": {},
   "cell_type": "markdown",
   "metadata": {},
   "source": [
    "## Exemplos práticos de uso do Polars"
   ]
  },
  {
   "attachments": {},
   "cell_type": "markdown",
   "metadata": {},
   "source": [
    "- Análise de dados financeiros"
   ]
  },
  {
   "attachments": {},
   "cell_type": "markdown",
   "metadata": {},
   "source": [
    "- Processamento de dados geoespaciais"
   ]
  },
  {
   "attachments": {},
   "cell_type": "markdown",
   "metadata": {},
   "source": [
    "- Análise de logs de servidor"
   ]
  },
  {
   "attachments": {},
   "cell_type": "markdown",
   "metadata": {},
   "source": [
    "- Análise de dados de ciência de dados e aprendizado de máquina"
   ]
  },
  {
   "attachments": {},
   "cell_type": "markdown",
   "metadata": {},
   "source": [
    "## Trabalhando com arquivos de dados"
   ]
  },
  {
   "attachments": {},
   "cell_type": "markdown",
   "metadata": {},
   "source": [
    "- Leitura e escrita de arquivos CSV, JSON, Parquet e outros formatos"
   ]
  },
  {
   "attachments": {},
   "cell_type": "markdown",
   "metadata": {},
   "source": [
    "- Trabalhando com dados em memória e em disco"
   ]
  },
  {
   "attachments": {},
   "cell_type": "markdown",
   "metadata": {},
   "source": [
    "- Compressão de dados para reduzir o uso de espaço em disco"
   ]
  },
  {
   "attachments": {},
   "cell_type": "markdown",
   "metadata": {},
   "source": [
    "## Visualização de dados com Polars"
   ]
  },
  {
   "attachments": {},
   "cell_type": "markdown",
   "metadata": {},
   "source": [
    "- Uso de bibliotecas de visualização de dados para gerar gráficos e relatórios"
   ]
  },
  {
   "attachments": {},
   "cell_type": "markdown",
   "metadata": {},
   "source": [
    "- Integração com outras ferramentas de visualização, como Matplotlib e Seaborn"
   ]
  },
  {
   "attachments": {},
   "cell_type": "markdown",
   "metadata": {},
   "source": [
    "## Polars e outras bibliotecas de processamento de dados"
   ]
  },
  {
   "attachments": {},
   "cell_type": "markdown",
   "metadata": {},
   "source": [
    "- Comparação do Polars com outras bibliotecas populares, como o Pandas e Dask"
   ]
  },
  {
   "attachments": {},
   "cell_type": "markdown",
   "metadata": {},
   "source": [
    "- Uso do Polars em conjunto com outras bibliotecas de processamento de dados\n"
   ]
  },
  {
   "attachments": {},
   "cell_type": "markdown",
   "metadata": {},
   "source": [
    "## Melhores práticas para uso do Polars"
   ]
  },
  {
   "attachments": {},
   "cell_type": "markdown",
   "metadata": {},
   "source": [
    "- Boas práticas de programação para trabalhar com o Polars"
   ]
  },
  {
   "attachments": {},
   "cell_type": "markdown",
   "metadata": {},
   "source": [
    "- Estratégias para melhorar o desempenho e escalabilidade do Polars"
   ]
  },
  {
   "attachments": {},
   "cell_type": "markdown",
   "metadata": {},
   "source": [
    "- Dicas para solução de problemas e depuração"
   ]
  },
  {
   "cell_type": "markdown",
   "metadata": {},
   "source": []
  }
 ],
 "metadata": {
  "kernelspec": {
   "display_name": "Python 3 (ipykernel)",
   "language": "python",
   "name": "python3"
  },
  "language_info": {
   "codemirror_mode": {
    "name": "ipython",
    "version": 3
   },
   "file_extension": ".py",
   "mimetype": "text/x-python",
   "name": "python",
   "nbconvert_exporter": "python",
   "pygments_lexer": "ipython3",
   "version": "3.10.6"
  },
  "orig_nbformat": 4
 },
 "nbformat": 4,
 "nbformat_minor": 2
}
